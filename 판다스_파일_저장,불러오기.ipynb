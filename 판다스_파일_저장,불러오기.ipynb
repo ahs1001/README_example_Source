{
  "nbformat": 4,
  "nbformat_minor": 0,
  "metadata": {
    "colab": {
      "provenance": [],
      "authorship_tag": "ABX9TyM8RrvYll+1d5GU6IrVVflg",
      "include_colab_link": true
    },
    "kernelspec": {
      "name": "python3",
      "display_name": "Python 3"
    },
    "language_info": {
      "name": "python"
    }
  },
  "cells": [
    {
      "cell_type": "markdown",
      "metadata": {
        "id": "view-in-github",
        "colab_type": "text"
      },
      "source": [
        "<a href=\"https://colab.research.google.com/github/ahs1001/README_example_Source/blob/main/%ED%8C%90%EB%8B%A4%EC%8A%A4_%ED%8C%8C%EC%9D%BC_%EC%A0%80%EC%9E%A5%2C%EB%B6%88%EB%9F%AC%EC%98%A4%EA%B8%B0.ipynb\" target=\"_parent\"><img src=\"https://colab.research.google.com/assets/colab-badge.svg\" alt=\"Open In Colab\"/></a>"
      ]
    },
    {
      "cell_type": "code",
      "execution_count": 4,
      "metadata": {
        "id": "1qgPkXwr0Qld"
      },
      "outputs": [],
      "source": [
        "import pandas as pd\n",
        "df=pd.read_csv('person_info.csv', encoding = 'cp949') # utf-8, cp949, euc-kr"
      ]
    },
    {
      "cell_type": "code",
      "source": [
        "df.to_csv('my_data.csv') #이렇게 하면 한글 때문에 파일이 깨짐\n",
        "df.to_excel('my_data.xlsx', index=False) # 엑셀파일은 괜찮음 대신 index = False를 붙혀야 함 안그러면 나중에 다시 가져올때 새로운 열이 생김"
      ],
      "metadata": {
        "id": "fvX7ZA_O1xMl"
      },
      "execution_count": 16,
      "outputs": []
    },
    {
      "cell_type": "code",
      "source": [],
      "metadata": {
        "id": "AJlFvvGq3GLG"
      },
      "execution_count": 11,
      "outputs": []
    }
  ]
}